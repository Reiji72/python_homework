{
 "cells": [
  {
   "cell_type": "markdown",
   "id": "b4cd3c02-e219-467d-adec-0d0a11d9e29e",
   "metadata": {},
   "source": [
    "# แบบทดสอบวัดความรู้การเขียนโปรแกรมด้วยภาษาไพธอน"
   ]
  },
  {
   "cell_type": "markdown",
   "id": "2948a9b0-c1d7-4eb5-8838-176acb70778c",
   "metadata": {},
   "source": [
    "### ประจำปีการศึกษา 2/2567\n",
    "### ผู้สอนโดย ผู้ช่วยศาสตราจารย์พิศาล สุขขี"
   ]
  },
  {
   "cell_type": "code",
   "execution_count": null,
   "id": "591368ff-e60f-42ec-8245-f1d8340980b6",
   "metadata": {},
   "outputs": [],
   "source": [
    "ชื่อ หัสยา นามสกุล ศรศรี รหัสนักศึกษา 6712732134"
   ]
  },
  {
   "cell_type": "markdown",
   "id": "be66bdec-8ff3-48b3-8f81-16887b231bf6",
   "metadata": {},
   "source": [
    "### จงแทนนิพจน์ทางคณิตศาสตร์เหล่านี้้ด้วยภาษาไพทอน"
   ]
  },
  {
   "cell_type": "markdown",
   "id": "f52fc4e7-4075-4953-af9b-23cb0761aa42",
   "metadata": {},
   "source": [
    "**ข้อที่ 1.** $ 7 \\times \\frac{5 + 6}{7 + \\frac{7}{8}} $"
   ]
  },
  {
   "cell_type": "code",
   "execution_count": 3,
   "id": "ae684192-9514-4bc3-adf4-f2527542b446",
   "metadata": {},
   "outputs": [
    {
     "data": {
      "text/plain": [
       "9.777777777777777"
      ]
     },
     "execution_count": 3,
     "metadata": {},
     "output_type": "execute_result"
    }
   ],
   "source": [
    "# คำตอบ\n",
    "7*((5+6)/(7+(7/8)))\n"
   ]
  },
  {
   "cell_type": "markdown",
   "id": "ad7eab25-da54-49b4-8b7e-4e008c957f2c",
   "metadata": {},
   "source": [
    "<hr>"
   ]
  },
  {
   "cell_type": "markdown",
   "id": "bf31fe17-6a86-4b14-b1a4-119e656994d3",
   "metadata": {},
   "source": [
    "**ข้อที่ 2** $ \\sqrt[2]{\\left( 7 + 3 \\times 4 \\right)} $"
   ]
  },
  {
   "cell_type": "code",
   "execution_count": 3,
   "id": "f8e9bb53-b34a-4897-b01b-2c62e7191229",
   "metadata": {},
   "outputs": [],
   "source": [
    "# คำตอบ\n",
    "(7+3*4)**1/2\n"
   ]
  },
  {
   "cell_type": "markdown",
   "id": "1e60345a-875c-460a-87d1-7659462f3919",
   "metadata": {},
   "source": [
    "<hr>"
   ]
  },
  {
   "cell_type": "markdown",
   "id": "7fd2caaa-e462-4ff5-ad81-dc761fc31caa",
   "metadata": {},
   "source": [
    "**ข้อที่ 3** $ \\frac{5 + 6^{2.5}}{\\sqrt[2]{3.5}} + 3^2 $"
   ]
  },
  {
   "cell_type": "code",
   "execution_count": 34,
   "id": "e4cf0da4-4b79-45e9-887b-3ddeef89a876",
   "metadata": {},
   "outputs": [
    {
     "data": {
      "text/plain": [
       "22.311661534313487"
      ]
     },
     "execution_count": 34,
     "metadata": {},
     "output_type": "execute_result"
    }
   ],
   "source": [
    "# คำตอบ\n",
    "((5+(6)**2.5)/(3.5)**1/2)+3**2\n"
   ]
  },
  {
   "cell_type": "markdown",
   "id": "7380cd6f-cdfd-4373-a313-f1d548c90893",
   "metadata": {},
   "source": [
    "<hr>"
   ]
  },
  {
   "cell_type": "markdown",
   "id": "e07fd3e9-2c77-41bc-8c89-a475cc25380c",
   "metadata": {},
   "source": [
    "## แบบทดสอบวัดความรู้เรื่องชนิดข้อมูล"
   ]
  },
  {
   "cell_type": "markdown",
   "id": "5ed88a95-692d-4097-9124-0b882a274e89",
   "metadata": {},
   "source": [
    "**ข้อที่ 4** กำหนดให้ my_list = [1, 2, 3, 4, 5] \n",
    "\n",
    "จงเพิ่มค่าให้สมาชิกทุกตัวของลิสต์ในตัวแปร my_list อย่างละ 5 ด้วยเครื่องหมาย + และพิมพ์ตัวแปร my_list ออกหน้าจอ"
   ]
  },
  {
   "cell_type": "code",
   "execution_count": 44,
   "id": "4b3cdf62-47dd-432c-94d8-920877ed601f",
   "metadata": {},
   "outputs": [
    {
     "name": "stdout",
     "output_type": "stream",
     "text": [
      "[6, 7, 8, 9, 10]\n"
     ]
    }
   ],
   "source": [
    "# คำตอบ\n",
    "my_list = [1,2,3,4,5]\n",
    "for i in range(len(my_list)):\n",
    "    my_list [i]+= 5\n",
    "print (my_list)"
   ]
  },
  {
   "cell_type": "markdown",
   "id": "04c4827d-d43b-46b6-b3f6-6bc1ca41d456",
   "metadata": {},
   "source": [
    "<hr>"
   ]
  },
  {
   "cell_type": "markdown",
   "id": "081469f7-a509-4adf-ab7e-99c1a8911544",
   "metadata": {},
   "source": [
    "**กำหนดให้ my_list = [10, 20, 30, 40, 50, 60, 70, 80, 90, 100]**"
   ]
  },
  {
   "cell_type": "markdown",
   "id": "bb579639-1d63-4d2a-9b74-b813d8b98986",
   "metadata": {},
   "source": [
    "**ข้อที่ 5** จงเลือกสมาชิกตัวที่ 3 จนถึงตัวที่ 7"
   ]
  },
  {
   "cell_type": "code",
   "execution_count": 13,
   "id": "e281249d-7687-479e-a122-f4d0fed7240f",
   "metadata": {},
   "outputs": [
    {
     "name": "stdout",
     "output_type": "stream",
     "text": [
      "[30, 40, 50, 60, 70]\n"
     ]
    }
   ],
   "source": [
    "# คำตอบ\n",
    "my_list = [10,20,30,40,50,60,70,80,90,100]\n",
    "\n",
    "print (my_list[2:7])"
   ]
  },
  {
   "cell_type": "markdown",
   "id": "c06cf69b-9947-4140-8732-a6dc514e3361",
   "metadata": {},
   "source": [
    "<hr>"
   ]
  },
  {
   "cell_type": "markdown",
   "id": "a50dbda6-a551-49e6-a784-6062c60de14f",
   "metadata": {},
   "source": [
    "**ข้อที่ 6** จงเลือกสมาชิกตัวที่ 2 จนถึงตัวที่ 5"
   ]
  },
  {
   "cell_type": "code",
   "execution_count": 14,
   "id": "4fd57dc3-5498-48ec-a80f-e5be91ce4640",
   "metadata": {},
   "outputs": [
    {
     "name": "stdout",
     "output_type": "stream",
     "text": [
      "[20, 30, 40, 50]\n"
     ]
    }
   ],
   "source": [
    "# คำตอบ\n",
    "my_list = [10,20,30,40,50,60,70,80,90,100]\n",
    "\n",
    "print (my_list[1:5])\n"
   ]
  },
  {
   "cell_type": "markdown",
   "id": "0a2fd1c3-239f-48f5-92f5-80d2e19b0d45",
   "metadata": {},
   "source": [
    "<hr>"
   ]
  },
  {
   "cell_type": "markdown",
   "id": "67828813-a498-4478-956e-845b1f62ed4c",
   "metadata": {},
   "source": [
    "**ข้อที่ 7** จงเลือกสมาชิกตั้งแต่ตัวแรกจนถึงตัวที่ 8"
   ]
  },
  {
   "cell_type": "code",
   "execution_count": 15,
   "id": "129d32c4-7b44-435e-a92b-23e5feac1859",
   "metadata": {},
   "outputs": [
    {
     "name": "stdout",
     "output_type": "stream",
     "text": [
      "[10, 20, 30, 40, 50, 60, 70, 80, 90]\n"
     ]
    }
   ],
   "source": [
    "# คำตอบ\n",
    "my_list = [10,20,30,40,50,60,70,80,90,100]\n",
    "\n",
    "print (my_list[:9])\n"
   ]
  },
  {
   "cell_type": "markdown",
   "id": "79855b21-4fe5-4782-a539-d6dee869df79",
   "metadata": {},
   "source": [
    "<hr>"
   ]
  },
  {
   "cell_type": "markdown",
   "id": "e55c59d1-fe52-409e-a94a-69da2d908435",
   "metadata": {},
   "source": [
    "### แบบทดสอบวัดความรู้เรื่อง โครงสร้างควบคุม"
   ]
  },
  {
   "cell_type": "markdown",
   "id": "3ba6d469-0fc6-4be2-ae54-e9a27ddff5ad",
   "metadata": {},
   "source": [
    "**ข้อที่ 8** จงวนลูปเพื่อแสดงสูตรคูณแม่ 3 ไล่ตั้งแต่  3×1  จนถึง  3×12  โดยจะได้ผลลัพธ์ดังนี้"
   ]
  },
  {
   "cell_type": "raw",
   "id": "e1006360-f7c1-4c05-911a-bf224af4e1c6",
   "metadata": {},
   "source": [
    "3 * 1 = 3\n",
    "3 * 2 = 6\n",
    "3 * 3 = 9\n",
    ":\n",
    ":\n",
    ":\n",
    "3 * 12 = 36"
   ]
  },
  {
   "cell_type": "code",
   "execution_count": 42,
   "id": "0cb5d448-e014-4b0a-902f-b49d43bddae7",
   "metadata": {},
   "outputs": [
    {
     "name": "stdout",
     "output_type": "stream",
     "text": [
      "[3, 6, 9, 12, 15, 18, 21, 24, 27, 30, 33, 36]\n"
     ]
    }
   ],
   "source": [
    "# วนลูปค่า index i จาก 1 ถึง 12\n",
    "lt = [1,2,3,4,5,6,7,8,9,10,11,12]\n",
    "for i in range(len(lt)):\n",
    "    lt [i]*= 3\n",
    "print (lt)"
   ]
  },
  {
   "cell_type": "markdown",
   "id": "9d459c25-7c17-4977-8d05-261ebadb2248",
   "metadata": {},
   "source": [
    "<hr>"
   ]
  },
  {
   "cell_type": "markdown",
   "id": "46c978fe-6fa5-4fdf-bf3c-aacf1220c120",
   "metadata": {},
   "source": [
    "**ข้อที่ 9** จงเขียนโปรแกรมเพื่อไล่แม่สูตรคูณจากแม่ 11 ถึงแม่ 15 โดยแต่ละแม่จะคูณกับตัวเลขตั้งแต่ 1 จนถึง 12"
   ]
  },
  {
   "cell_type": "code",
   "execution_count": 103,
   "id": "6dae5b1e-e315-4c27-b136-6334a99f908a",
   "metadata": {},
   "outputs": [
    {
     "name": "stdout",
     "output_type": "stream",
     "text": [
      "11\n",
      "22\n",
      "33\n",
      "44\n",
      "55\n",
      "66\n",
      "77\n",
      "88\n",
      "99\n",
      "110\n",
      "121\n",
      "12\n",
      "24\n",
      "36\n",
      "48\n",
      "60\n",
      "72\n",
      "84\n",
      "96\n",
      "108\n",
      "120\n",
      "132\n",
      "13\n",
      "26\n",
      "39\n",
      "52\n",
      "65\n",
      "78\n",
      "91\n",
      "104\n",
      "117\n",
      "130\n",
      "143\n",
      "14\n",
      "28\n",
      "42\n",
      "56\n",
      "70\n",
      "84\n",
      "98\n",
      "112\n",
      "126\n",
      "140\n",
      "154\n",
      "15\n",
      "30\n",
      "45\n",
      "60\n",
      "75\n",
      "90\n",
      "105\n",
      "120\n",
      "135\n",
      "150\n",
      "165\n"
     ]
    }
   ],
   "source": [
    "# วนลูป index m เพื่อไล่แม่สูตรคูณจากแม่ 11 ถึงแม่ 15\n",
    "for i in range(11,16):\n",
    " for j in range(1,12):\n",
    "    print(i * j)"
   ]
  },
  {
   "cell_type": "markdown",
   "id": "944d0114-976b-4e32-8ae8-f6b9c81953ca",
   "metadata": {},
   "source": [
    "<hr>"
   ]
  },
  {
   "cell_type": "markdown",
   "id": "55ee2850-c0d9-4a78-83fc-55f7f55f783b",
   "metadata": {},
   "source": [
    "**ข้อที่ 10** จงเขียนโปรแกรมเพื่อให้ได้ผลลัพธ์ดังต่อไปนี้"
   ]
  },
  {
   "cell_type": "markdown",
   "id": "c99a3635-0310-4b83-8306-86e03265e7cc",
   "metadata": {},
   "source": [
    "จงเขียนฟังก์ชันที่ทำหน้าที่กลับสตริงจากหน้าเป็นหลัง \n",
    "\n",
    "โดยมีการส่งอาร์กิวเมนต์ที่เป็นสติงไปให้ฟังก์ชันทำงาน เช่น"
   ]
  },
  {
   "cell_type": "code",
   "execution_count": null,
   "id": "29d46902-f6f1-40fb-ba1f-1ba3ea104d95",
   "metadata": {},
   "outputs": [],
   "source": [
    "\"\"\"\n",
    "Argument String: \"1234abcd\"\n",
    "Expected Output: \"dcba4321\"\n",
    "\"\"\""
   ]
  },
  {
   "cell_type": "code",
   "execution_count": 66,
   "id": "4a931ad9-f8e8-4643-b127-01194b81f0a6",
   "metadata": {},
   "outputs": [
    {
     "name": "stdout",
     "output_type": "stream",
     "text": [
      "352700azayassaH\n"
     ]
    }
   ],
   "source": [
    "# คำตอบ\n",
    "str = \"Hassayaza007253\"\n",
    "x = str[::-1]\n",
    "print (x)"
   ]
  },
  {
   "cell_type": "markdown",
   "id": "9959fdd7-5ea8-493a-a4d5-263fd067834e",
   "metadata": {},
   "source": [
    "<hr>"
   ]
  },
  {
   "cell_type": "markdown",
   "id": "55e4c0f5-4d9e-4f04-81b7-f86a816562a2",
   "metadata": {},
   "source": [
    "**ข้่อที่ 11** กำหนดให้\n",
    "\n",
    "str = \"Python Programming\"\n",
    "\n",
    "จงเขียนโปรแกรมที่แสดงผลเฉพาะคำว่า Programming จาก str"
   ]
  },
  {
   "cell_type": "code",
   "execution_count": 64,
   "id": "42c24d42-f4ad-475c-87ca-a30640696a62",
   "metadata": {},
   "outputs": [
    {
     "name": "stdout",
     "output_type": "stream",
     "text": [
      "Programming\n"
     ]
    }
   ],
   "source": [
    "# คำตอบ\n",
    "str = \"Python Programming\"\n",
    "x = str[7:]\n",
    "print (x)"
   ]
  },
  {
   "cell_type": "markdown",
   "id": "3ccd220e-b02d-4324-8a13-9a360ce1bdb0",
   "metadata": {},
   "source": [
    "**ข้อที่ 12** ให้ทำการแสดงเลขคู่ทั้งหมดที่อยู่ในช่วง 1 - 100"
   ]
  },
  {
   "cell_type": "code",
   "execution_count": 75,
   "id": "b27af344-cb7b-4464-bba1-817e71de8ff1",
   "metadata": {},
   "outputs": [
    {
     "name": "stdout",
     "output_type": "stream",
     "text": [
      "2 4 6 8 10 12 14 16 18 20 22 24 26 28 30 32 34 36 38 40 42 44 46 48 50 52 54 56 58 60 62 64 66 68 70 72 74 76 78 80 82 84 86 88 90 92 94 96 98 100 "
     ]
    }
   ],
   "source": [
    "# คำตอบ\n",
    "for val in range(1,101):\n",
    "    if val % 2 == 1:\n",
    "        continue\n",
    "    print(val, end=\" \")"
   ]
  },
  {
   "cell_type": "markdown",
   "id": "1b5c99ad-29d4-4587-ae27-e7d64c8c3f08",
   "metadata": {},
   "source": [
    "<hr>"
   ]
  },
  {
   "cell_type": "markdown",
   "id": "12043275-7256-4a53-8722-b3573b5301e8",
   "metadata": {},
   "source": [
    "**ข้อที่ 13** ให้เขียนโปรแกรม เพื่อรับจำนวนหรือตัวเลขเข้ามาจากคีย์บอร์ด และตรวจสอบว่าจำนวนที่รับเข้ามานั้นมีค่าต่ำกว่า 100 หรือไม่ "
   ]
  },
  {
   "cell_type": "code",
   "execution_count": 85,
   "id": "d0e2279f-340d-461c-b5d8-5bdaa1f9661f",
   "metadata": {},
   "outputs": [
    {
     "name": "stdin",
     "output_type": "stream",
     "text": [
      "Enter Number 50\n"
     ]
    },
    {
     "name": "stdout",
     "output_type": "stream",
     "text": [
      "True\n"
     ]
    }
   ],
   "source": [
    "# คำตอบ\n",
    "num = int(input(\"Enter Number\"))\n",
    "if num < 100:\n",
    "    print(\"True\")\n",
    "else:\n",
    "    print(\"False\")"
   ]
  },
  {
   "cell_type": "markdown",
   "id": "313cfeb9-3413-4a11-a2da-c201785b064c",
   "metadata": {},
   "source": [
    "<hr />"
   ]
  },
  {
   "cell_type": "markdown",
   "id": "ebe25b48-312b-4513-84c8-d90acc72cc14",
   "metadata": {},
   "source": [
    "**ข้อที่ 14** ให้เขียนโปรแกรม เพื่อคำนวนหาผลรวมของตัวเลขในช่วง 1 ถึง 100"
   ]
  },
  {
   "cell_type": "code",
   "execution_count": 86,
   "id": "f49ea3e1-2226-4373-94d7-a45735b127df",
   "metadata": {},
   "outputs": [
    {
     "name": "stdout",
     "output_type": "stream",
     "text": [
      "5050\n"
     ]
    }
   ],
   "source": [
    "# คำตอบ\n",
    "sum_val = 0 \n",
    "for val in range(0,101):\n",
    "    sum_val += val\n",
    "print(sum_val)"
   ]
  },
  {
   "cell_type": "markdown",
   "id": "22f81c78-bc0e-48d7-84e2-4e58e6aff8a5",
   "metadata": {},
   "source": [
    "<hr>"
   ]
  },
  {
   "cell_type": "markdown",
   "id": "76ab1c2e-4564-4994-a3ff-ec874fe0ea46",
   "metadata": {},
   "source": [
    "**ข้อที่ 15** ให้เขียนโปรแกรม เพื่อแสดงเลขคี่ ของตัวเลขในช่วง 1 ถึง 100"
   ]
  },
  {
   "cell_type": "code",
   "execution_count": 72,
   "id": "bed94210-1f07-4e10-b31c-09913b54d967",
   "metadata": {},
   "outputs": [
    {
     "name": "stdout",
     "output_type": "stream",
     "text": [
      "1 3 5 7 9 11 13 15 17 19 21 23 25 27 29 31 33 35 37 39 41 43 45 47 49 51 53 55 57 59 61 63 65 67 69 71 73 75 77 79 81 83 85 87 89 91 93 95 97 99 "
     ]
    }
   ],
   "source": [
    "# คำตอบ\n",
    "for val in range(1,101):\n",
    "    if val % 2 == 0:\n",
    "        continue\n",
    "    print(val, end=\" \")\n"
   ]
  },
  {
   "cell_type": "code",
   "execution_count": null,
   "id": "4e6ce98d-35ec-4ada-9f59-620b92615280",
   "metadata": {},
   "outputs": [],
   "source": []
  }
 ],
 "metadata": {
  "kernelspec": {
   "display_name": "Python 3 (ipykernel)",
   "language": "python",
   "name": "python3"
  },
  "language_info": {
   "codemirror_mode": {
    "name": "ipython",
    "version": 3
   },
   "file_extension": ".py",
   "mimetype": "text/x-python",
   "name": "python",
   "nbconvert_exporter": "python",
   "pygments_lexer": "ipython3",
   "version": "3.13.0"
  }
 },
 "nbformat": 4,
 "nbformat_minor": 5
}
