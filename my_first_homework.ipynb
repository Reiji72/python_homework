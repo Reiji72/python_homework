{
 "cells": [
  {
   "cell_type": "markdown",
   "id": "13480bb2-65ea-4e70-be4a-065b651cbfaf",
   "metadata": {},
   "source": [
    "นายหัสยา ศรศรี\n",
    "\n",
    "เลขที่671273134"
   ]
  },
  {
   "cell_type": "code",
   "execution_count": 1,
   "id": "9b2fa4d7-524f-4286-b4d7-c7020de5fbcb",
   "metadata": {},
   "outputs": [
    {
     "name": "stdout",
     "output_type": "stream",
     "text": [
      "Hello World\n"
     ]
    }
   ],
   "source": [
    "print(\"Hello World\")"
   ]
  },
  {
   "cell_type": "code",
   "execution_count": null,
   "id": "241fad32-4713-4d09-a52e-4340e79a5677",
   "metadata": {},
   "outputs": [],
   "source": []
  }
 ],
 "metadata": {
  "kernelspec": {
   "display_name": "Python 3 (ipykernel)",
   "language": "python",
   "name": "python3"
  },
  "language_info": {
   "codemirror_mode": {
    "name": "ipython",
    "version": 3
   },
   "file_extension": ".py",
   "mimetype": "text/x-python",
   "name": "python",
   "nbconvert_exporter": "python",
   "pygments_lexer": "ipython3",
   "version": "3.13.0"
  }
 },
 "nbformat": 4,
 "nbformat_minor": 5
}
